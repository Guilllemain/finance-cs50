{
 "cells": [
  {
   "cell_type": "code",
   "execution_count": 3,
   "metadata": {},
   "outputs": [
    {
     "name": "stdout",
     "output_type": "stream",
     "text": [
      "Collecting pyEX\n",
      "Requirement already satisfied: Pillow>=5.3.0 in /usr/local/anaconda3/lib/python3.7/site-packages (from pyEX) (5.4.1)\n",
      "Requirement already satisfied: ipython>=7.2.0 in /usr/local/anaconda3/lib/python3.7/site-packages (from pyEX) (7.4.0)\n",
      "Collecting sseclient>=0.0.22 (from pyEX)\n",
      "Requirement already satisfied: pandas>=0.22 in /usr/local/anaconda3/lib/python3.7/site-packages (from pyEX) (0.24.2)\n",
      "Collecting deprecation>=2.0.6 (from pyEX)\n",
      "  Using cached https://files.pythonhosted.org/packages/32/e9/01ffbaf3540ad54476cd7066439d629f1dd73b851cc5c0993ce2c12e1cdd/deprecation-2.0.6-py2.py3-none-any.whl\n",
      "Collecting socketIO-client-nexus>=0.7.6 (from pyEX)\n",
      "  Using cached https://files.pythonhosted.org/packages/a0/fa/2bfd4b5f38530876a26678ed98e3f2233b33479d085cc01adf83af87c3f0/socketIO_client_nexus-0.7.6-py2.py3-none-any.whl\n",
      "Requirement already satisfied: requests>=2.21.0 in /usr/local/anaconda3/lib/python3.7/site-packages (from pyEX) (2.21.0)\n",
      "Requirement already satisfied: pickleshare in /usr/local/anaconda3/lib/python3.7/site-packages (from ipython>=7.2.0->pyEX) (0.7.5)\n",
      "Requirement already satisfied: prompt-toolkit<2.1.0,>=2.0.0 in /usr/local/anaconda3/lib/python3.7/site-packages (from ipython>=7.2.0->pyEX) (2.0.9)\n",
      "Requirement already satisfied: setuptools>=18.5 in /usr/local/anaconda3/lib/python3.7/site-packages (from ipython>=7.2.0->pyEX) (40.8.0)\n",
      "Requirement already satisfied: jedi>=0.10 in /usr/local/anaconda3/lib/python3.7/site-packages (from ipython>=7.2.0->pyEX) (0.13.3)\n",
      "Requirement already satisfied: backcall in /usr/local/anaconda3/lib/python3.7/site-packages (from ipython>=7.2.0->pyEX) (0.1.0)\n",
      "Requirement already satisfied: pygments in /usr/local/anaconda3/lib/python3.7/site-packages (from ipython>=7.2.0->pyEX) (2.3.1)\n",
      "Requirement already satisfied: traitlets>=4.2 in /usr/local/anaconda3/lib/python3.7/site-packages (from ipython>=7.2.0->pyEX) (4.3.2)\n",
      "Requirement already satisfied: pexpect; sys_platform != \"win32\" in /usr/local/anaconda3/lib/python3.7/site-packages (from ipython>=7.2.0->pyEX) (4.6.0)\n",
      "Requirement already satisfied: decorator in /usr/local/anaconda3/lib/python3.7/site-packages (from ipython>=7.2.0->pyEX) (4.4.0)\n",
      "Requirement already satisfied: appnope; sys_platform == \"darwin\" in /usr/local/anaconda3/lib/python3.7/site-packages (from ipython>=7.2.0->pyEX) (0.1.0)\n",
      "Requirement already satisfied: six in /usr/local/anaconda3/lib/python3.7/site-packages (from sseclient>=0.0.22->pyEX) (1.12.0)\n",
      "Requirement already satisfied: numpy>=1.12.0 in /usr/local/anaconda3/lib/python3.7/site-packages (from pandas>=0.22->pyEX) (1.16.2)\n",
      "Requirement already satisfied: pytz>=2011k in /usr/local/anaconda3/lib/python3.7/site-packages (from pandas>=0.22->pyEX) (2018.9)\n",
      "Requirement already satisfied: python-dateutil>=2.5.0 in /usr/local/anaconda3/lib/python3.7/site-packages (from pandas>=0.22->pyEX) (2.8.0)\n",
      "Requirement already satisfied: packaging in /usr/local/anaconda3/lib/python3.7/site-packages (from deprecation>=2.0.6->pyEX) (19.0)\n",
      "Collecting websocket-client (from socketIO-client-nexus>=0.7.6->pyEX)\n",
      "  Using cached https://files.pythonhosted.org/packages/29/19/44753eab1fdb50770ac69605527e8859468f3c0fd7dc5a76dd9c4dbd7906/websocket_client-0.56.0-py2.py3-none-any.whl\n",
      "Requirement already satisfied: chardet<3.1.0,>=3.0.2 in /usr/local/anaconda3/lib/python3.7/site-packages (from requests>=2.21.0->pyEX) (3.0.4)\n",
      "Requirement already satisfied: idna<2.9,>=2.5 in /usr/local/anaconda3/lib/python3.7/site-packages (from requests>=2.21.0->pyEX) (2.8)\n",
      "Requirement already satisfied: urllib3<1.25,>=1.21.1 in /usr/local/anaconda3/lib/python3.7/site-packages (from requests>=2.21.0->pyEX) (1.24.1)\n",
      "Requirement already satisfied: certifi>=2017.4.17 in /usr/local/anaconda3/lib/python3.7/site-packages (from requests>=2.21.0->pyEX) (2019.3.9)\n",
      "Requirement already satisfied: wcwidth in /usr/local/anaconda3/lib/python3.7/site-packages (from prompt-toolkit<2.1.0,>=2.0.0->ipython>=7.2.0->pyEX) (0.1.7)\n",
      "Requirement already satisfied: parso>=0.3.0 in /usr/local/anaconda3/lib/python3.7/site-packages (from jedi>=0.10->ipython>=7.2.0->pyEX) (0.3.4)\n",
      "Requirement already satisfied: ipython-genutils in /usr/local/anaconda3/lib/python3.7/site-packages (from traitlets>=4.2->ipython>=7.2.0->pyEX) (0.2.0)\n",
      "Requirement already satisfied: ptyprocess>=0.5 in /usr/local/anaconda3/lib/python3.7/site-packages (from pexpect; sys_platform != \"win32\"->ipython>=7.2.0->pyEX) (0.6.0)\n",
      "Requirement already satisfied: pyparsing>=2.0.2 in /usr/local/anaconda3/lib/python3.7/site-packages (from packaging->deprecation>=2.0.6->pyEX) (2.3.1)\n",
      "Installing collected packages: sseclient, deprecation, websocket-client, socketIO-client-nexus, pyEX\n",
      "Successfully installed deprecation-2.0.6 pyEX-0.1.13 socketIO-client-nexus-0.7.6 sseclient-0.0.24 websocket-client-0.56.0\n"
     ]
    }
   ],
   "source": [
    "import sys\n",
    "!{sys.executable} -m pip install pyEX"
   ]
  },
  {
   "cell_type": "code",
   "execution_count": 2,
   "metadata": {},
   "outputs": [],
   "source": [
    "import pyEX as p"
   ]
  },
  {
   "cell_type": "code",
   "execution_count": 4,
   "metadata": {},
   "outputs": [
    {
     "data": {
      "text/html": [
       "<div>\n",
       "<style scoped>\n",
       "    .dataframe tbody tr th:only-of-type {\n",
       "        vertical-align: middle;\n",
       "    }\n",
       "\n",
       "    .dataframe tbody tr th {\n",
       "        vertical-align: top;\n",
       "    }\n",
       "\n",
       "    .dataframe thead th {\n",
       "        text-align: right;\n",
       "    }\n",
       "</style>\n",
       "<table border=\"1\" class=\"dataframe\">\n",
       "  <thead>\n",
       "    <tr style=\"text-align: right;\">\n",
       "      <th></th>\n",
       "      <th>open</th>\n",
       "      <th>close</th>\n",
       "      <th>low</th>\n",
       "      <th>high</th>\n",
       "    </tr>\n",
       "    <tr>\n",
       "      <th>date</th>\n",
       "      <th></th>\n",
       "      <th></th>\n",
       "      <th></th>\n",
       "      <th></th>\n",
       "    </tr>\n",
       "  </thead>\n",
       "  <tbody>\n",
       "    <tr>\n",
       "      <th>2019-05-15</th>\n",
       "      <td>343.34</td>\n",
       "      <td>354.99</td>\n",
       "      <td>341.39</td>\n",
       "      <td>356.50</td>\n",
       "    </tr>\n",
       "    <tr>\n",
       "      <th>2019-05-16</th>\n",
       "      <td>356.37</td>\n",
       "      <td>359.31</td>\n",
       "      <td>353.93</td>\n",
       "      <td>364.00</td>\n",
       "    </tr>\n",
       "    <tr>\n",
       "      <th>2019-05-17</th>\n",
       "      <td>356.39</td>\n",
       "      <td>354.45</td>\n",
       "      <td>353.78</td>\n",
       "      <td>359.62</td>\n",
       "    </tr>\n",
       "    <tr>\n",
       "      <th>2019-05-20</th>\n",
       "      <td>351.23</td>\n",
       "      <td>348.11</td>\n",
       "      <td>345.40</td>\n",
       "      <td>352.41</td>\n",
       "    </tr>\n",
       "    <tr>\n",
       "      <th>2019-05-21</th>\n",
       "      <td>350.95</td>\n",
       "      <td>354.27</td>\n",
       "      <td>349.93</td>\n",
       "      <td>356.42</td>\n",
       "    </tr>\n",
       "  </tbody>\n",
       "</table>\n",
       "</div>"
      ],
      "text/plain": [
       "              open   close     low    high\n",
       "date                                      \n",
       "2019-05-15  343.34  354.99  341.39  356.50\n",
       "2019-05-16  356.37  359.31  353.93  364.00\n",
       "2019-05-17  356.39  354.45  353.78  359.62\n",
       "2019-05-20  351.23  348.11  345.40  352.41\n",
       "2019-05-21  350.95  354.27  349.93  356.42"
      ]
     },
     "execution_count": 4,
     "metadata": {},
     "output_type": "execute_result"
    }
   ],
   "source": [
    "client = p.Client('pk_5090c32b331348cf8e034e7fa7a140fd')\n",
    "df = client.chartDF('NFLX', '1d')\n",
    "df = df[['open', 'close', 'low', 'high']]\n",
    "df.head()"
   ]
  },
  {
   "cell_type": "code",
   "execution_count": 48,
   "metadata": {},
   "outputs": [
    {
     "data": {
      "text/plain": [
       "open     float64\n",
       "close    float64\n",
       "low      float64\n",
       "high     float64\n",
       "dtype: object"
      ]
     },
     "execution_count": 48,
     "metadata": {},
     "output_type": "execute_result"
    }
   ],
   "source": [
    "client = pyEX.Client('pk_5090c32b331348cf8e034e7fa7a140fd')\n",
    "df = client.chartDF('NFLX', '1y')\n",
    "df = df[['open', 'close', 'low', 'high']]\n",
    "df.dtypes"
   ]
  },
  {
   "cell_type": "code",
   "execution_count": 19,
   "metadata": {},
   "outputs": [
    {
     "data": {
      "text/plain": [
       "<matplotlib.axes._subplots.AxesSubplot at 0x12231cdd8>"
      ]
     },
     "execution_count": 19,
     "metadata": {},
     "output_type": "execute_result"
    },
    {
     "data": {
      "image/png": "[encoded data removed]",
      "text/plain": [
       "<Figure size 432x288 with 1 Axes>"
      ]
     },
     "metadata": {
      "needs_background": "light"
     },
     "output_type": "display_data"
    }
   ],
   "source": [
    "%matplotlib inline\n",
    "df.plot()"
   ]
  },
  {
   "cell_type": "code",
   "execution_count": null,
   "metadata": {},
   "outputs": [],
   "source": []
  }
 ],
 "metadata": {
  "kernelspec": {
   "display_name": "Python 3",
   "language": "python",
   "name": "python3"
  },
  "language_info": {
   "codemirror_mode": {
    "name": "ipython",
    "version": 3
   },
   "file_extension": ".py",
   "mimetype": "text/x-python",
   "name": "python",
   "nbconvert_exporter": "python",
   "pygments_lexer": "ipython3",
   "version": "3.7.3"
  }
 },
 "nbformat": 4,
 "nbformat_minor": 2
}
